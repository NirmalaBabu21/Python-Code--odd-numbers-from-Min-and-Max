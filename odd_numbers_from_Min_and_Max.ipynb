{
  "nbformat": 4,
  "nbformat_minor": 0,
  "metadata": {
    "colab": {
      "name": "odd numbers from Min and Max.ipynb",
      "provenance": []
    },
    "kernelspec": {
      "name": "python3",
      "display_name": "Python 3"
    },
    "language_info": {
      "name": "python"
    }
  },
  "cells": [
    {
      "cell_type": "code",
      "execution_count": 5,
      "metadata": {
        "id": "PZjx79-d_2Ya",
        "colab": {
          "base_uri": "https://localhost:8080/"
        },
        "outputId": "6e004de9-9968-4521-9de0-888dac7405c8"
      },
      "outputs": [
        {
          "output_type": "stream",
          "name": "stdout",
          "text": [
            "Enter a number52\n",
            "Enter a number96\n",
            "[53, 55, 57, 59, 61, 63, 65, 67, 69, 71, 73, 75, 77, 79, 81, 83, 85, 87, 89, 91, 93, 95]\n"
          ]
        }
      ],
      "source": [
        "a=[]\n",
        "min = int(input(\"Enter a number\"))\n",
        "max = int(input(\"Enter a number\"))\n",
        "while (min<max):\n",
        "  if((min%2)==0):\n",
        "    pass\n",
        "  else:\n",
        "    a.append(min)\n",
        "  min= min+1\n",
        "print(a)\n",
        "      "
      ]
    }
  ]
}